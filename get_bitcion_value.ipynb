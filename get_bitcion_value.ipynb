{
 "cells": [
  {
   "cell_type": "code",
   "execution_count": 1,
   "metadata": {},
   "outputs": [
    {
     "name": "stdout",
     "output_type": "stream",
     "text": [
      "updating prices\n",
      "updating prices\n",
      "2018-12-21 16:22:52.122370\n",
      "{'USD': 4043.9717, 'GBP': 3197.5037, 'EUR': 3546.822}\n"
     ]
    }
   ],
   "source": [
    "#This script calls the coindesk api and gets the current price of bitcoin in USD, GBP and EUR.\n",
    "\n",
    "from datetime import datetime\n",
    "import json\n",
    "import requests\n",
    "\n",
    "class PriceChecker():\n",
    "    \n",
    "    def __init__(self,url,freq=60):\n",
    "        self.url = url\n",
    "        self.freq = freq\n",
    "        self.lastupdate = None\n",
    "        self.prices = {}\n",
    "        self.update_price()\n",
    "\n",
    "        \n",
    "    def update_price(self):\n",
    "        print(\"updating prices\")\n",
    "        r = requests.get(self.url)\n",
    "        self.lastupdate = datetime.now()\n",
    "        price_result = r.json()\n",
    "        self.price_timestamp = datetime.strptime(price_result[\"time\"][\"updatedISO\"][:-6],'%Y-%m-%dT%H:%M:%S')        \n",
    "        for symbol in ['USD','GBP','EUR']:\n",
    "            self.prices[symbol] = price_result['bpi'][symbol]['rate_float']\n",
    "            \n",
    "    @property\n",
    "    def price(self):\n",
    "        if (datetime.now()-self.lastupdate).total_seconds() >= self.freq:\n",
    "            self.update_price()\n",
    "        return self.prices\n",
    "    \n",
    "    \n",
    "        \n",
    "\n",
    "my_url = \"https://api.coindesk.com/v1/bpi/currentprice.json\"\n",
    "my_price_checker = PriceChecker(url=my_url)\n",
    "my_price_checker.update_price()\n",
    "print(my_price_checker.lastupdate)\n",
    "print(my_price_checker.price)\n",
    "\n",
    "\n",
    "    "
   ]
  },
  {
   "cell_type": "code",
   "execution_count": 93,
   "metadata": {},
   "outputs": [
    {
     "name": "stdout",
     "output_type": "stream",
     "text": [
      "6634.3275\n"
     ]
    }
   ],
   "source": [
    "print(my_price_checker.USD)"
   ]
  },
  {
   "cell_type": "code",
   "execution_count": 94,
   "metadata": {},
   "outputs": [
    {
     "name": "stdout",
     "output_type": "stream",
     "text": [
      "updating prices\n",
      "{'USD': 6633.7488, 'GBP': 5066.8308, 'EUR': 5772.7147}\n"
     ]
    }
   ],
   "source": [
    "print(my_price_checker.price)"
   ]
  }
 ],
 "metadata": {
  "kernelspec": {
   "display_name": "Python 3",
   "language": "python",
   "name": "python3"
  },
  "language_info": {
   "codemirror_mode": {
    "name": "ipython",
    "version": 3
   },
   "file_extension": ".py",
   "mimetype": "text/x-python",
   "name": "python",
   "nbconvert_exporter": "python",
   "pygments_lexer": "ipython3",
   "version": "3.6.7"
  }
 },
 "nbformat": 4,
 "nbformat_minor": 2
}
